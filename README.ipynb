{
 "cells": [
  {
   "cell_type": "markdown",
   "metadata": {},
   "source": [
    "## Advanced Lane Lines Detection\n",
    "### Self-Driving Car Nanodegree. Project 4\n",
    "Explore writeup.ipynb in order to follow the process of lane lines detection.  \n",
    "Oleg Leyzerov  \n",
    "Wien, 2016  \n",
    "  \n",
    "Technologies used: python, numpy, opencv, sobel operator, RGB, HLS, thresholding, camera calibration, distortion correction, perspective transformation, sliding window, polyfit"
   ]
  }
 ],
 "metadata": {
  "anaconda-cloud": {},
  "kernelspec": {
   "display_name": "Python [conda env:myPython3Environment]",
   "language": "python",
   "name": "conda-env-myPython3Environment-py"
  },
  "language_info": {
   "codemirror_mode": {
    "name": "ipython",
    "version": 3
   },
   "file_extension": ".py",
   "mimetype": "text/x-python",
   "name": "python",
   "nbconvert_exporter": "python",
   "pygments_lexer": "ipython3",
   "version": "3.5.2"
  }
 },
 "nbformat": 4,
 "nbformat_minor": 1
}
